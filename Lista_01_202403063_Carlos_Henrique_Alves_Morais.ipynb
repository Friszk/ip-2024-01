{
  "nbformat": 4,
  "nbformat_minor": 0,
  "metadata": {
    "colab": {
      "provenance": [],
      "authorship_tag": "ABX9TyM9OWy1sfy+nYF6Qs9iK1ok"
    },
    "kernelspec": {
      "name": "python3",
      "display_name": "Python 3"
    },
    "language_info": {
      "name": "python"
    }
  },
  "cells": [
    {
      "cell_type": "markdown",
      "source": [
        "# Questão 1\n",
        "programa {\n",
        "  real nota1, nota2, nota3, m\n",
        "  funcao inicio() {\n",
        "     escreva (\"Escreva as três notas \\n\")\n",
        "     leia (nota1, nota2, nota3)\n",
        "     se (nota1 < 0 ou nota2 < 0 ou nota3 < 0){\n",
        "     escreva (\"Nota digitada inválida\")\n",
        "     retorne\n",
        "     }\n",
        "     m = (nota1+nota2+nota3)/3\n",
        "     escreva (\"A média do aluno é \"+m)\n",
        "  }\n",
        "}"
      ],
      "metadata": {
        "id": "U_fQnroKIwDl"
      }
    },
    {
      "cell_type": "markdown",
      "source": [
        " # Questão 2\n",
        "programa {\n",
        "  funcao inicio() {\n",
        "    inteiro n = 0, nJogos, ingQ\n",
        "    real valorTotal, pP, pG, pA, pC\n",
        "    \n",
        "    escreva (\"Digite o número de jogos a serem testados \\n\")\n",
        "    leia (nJogos)\n",
        "    enquanto (n < nJogos){\n",
        "    escreva (\"Digite a quantidade de ingressos\\n\")\n",
        "    leia(ingQ)\n",
        "    escreva (\"Digite a porcentagem da categoria popular\\n\")\n",
        "    leia(pP)\n",
        "    escreva (\"Digite a porcentagem da categoria geral\\n\")\n",
        "    leia(pG)\n",
        "    escreva (\"Digite a porcentagem da categoria arquibancada\\n\")\n",
        "    leia(pA)\n",
        "    escreva (\"Digite a porcentagem da categoria cadeiras\\n\")\n",
        "    leia(pC)\n",
        "    valorTotal = (ingQ*(pP/100)*1)+(ingQ*(pG/100)*5)+(ingQ*(pA/100)*10)+(ingQ*(pC/100)*20)\n",
        "    escreva (\"A RENDA DO JOGO \" + (n+1) + \" E = \" +(valorTotal)+\"\\n\")\n",
        "    n=n+1\n",
        "    }\n",
        "  }\n",
        "}"
      ],
      "metadata": {
        "id": "bPylMjBDMdDB"
      }
    },
    {
      "cell_type": "markdown",
      "source": [
        "\n",
        "# Questão 3\n",
        "programa {\n",
        "  funcao inicio() {\n",
        "    inteiro n = 0, nJogos, ingQ\n",
        "    real valorTotal, pP, pG, pA, pC\n",
        "\n",
        "\tescreva (\"Digite o número de jogos a serem testados \\n\")\n",
        "    leia (nJogos)\n",
        "    enquanto (n < nJogos){\n",
        "\tescreva (\"Digite a quantidade de ingressos\\n\")\n",
        "\tleia(ingQ)\n",
        "\tescreva (\"Digite a porcentagem da categoria popular\\n\")\n",
        "\tleia(pP)\n",
        "\tescreva (\"Digite a porcentagem da categoria geral\\n\")\n",
        "\tleia(pG)\n",
        "\tescreva (\"Digite a porcentagem da categoria arquibancada\\n\")\n",
        "\tleia(pA)\n",
        "\tescreva (\"Digite a porcentagem da categoria cadeiras\\n\")\n",
        "\tleia(pC)\n",
        "    valorTotal = ingQ*pP/100*1+ingQ*pG/100*5+ingQ*pA/100*10+ingQ*pC/100*20\n",
        "    escreva (\"A RENDA DO JOGO \" + (n+1) + \" E = \" +(valorTotal)+\"\\n\")\n",
        "    n=n+1\n",
        "    }\n",
        "  }\n",
        "}"
      ],
      "metadata": {
        "id": "--cq-QihVMM6"
      }
    },
    {
      "cell_type": "markdown",
      "source": [
        "#Questão 4\n",
        "programa\n",
        "{\n",
        "    inclua biblioteca Tipos --> tp\n",
        "    funcao inicio ()\n",
        "    {\n",
        "        inteiro custo2\n",
        "        real salario, kW, prctg, custoporK, custodConsumo, custocDesconto\n",
        "\n",
        "        leia(salario)\n",
        "        leia(kW)\n",
        "        \n",
        "        prctg = (kW*70)/10000\n",
        "        custodConsumo = prctg*salario\n",
        "        custoporKw = custodConsumo/kW\n",
        "        custocDesconto = custodConsumo*0.9\n",
        "        escreva(\"Custo por kW: R$\"+custoporKw+\"\\n Custo do consumo: R$\"+custodConsumo+\"\\n Custo com desconto: R$\"+custocDesconto)\n",
        "    }\n",
        "}"
      ],
      "metadata": {
        "id": "Ucu5Yjl9yI9d"
      }
    },
    {
      "cell_type": "markdown",
      "source": [
        "#Questão 5\n",
        "programa\n",
        "{\n",
        "    funcao inicio ()\n",
        "    {\n",
        "        real m3gasto, conta\n",
        "        inteiro numConta\n",
        "        caracter tipo\n",
        "        \n",
        "        escreva(\"DIGITE O NÚMERO DA CONTA \\n\")\n",
        "        leia(numConta)\n",
        "        escreva(\"DIGITE OS METROS CÚBICOS GASTOS \\n\")\n",
        "        leia(m3gasto)\n",
        "        se (m3gasto < 0){\n",
        "            escreva(\"METROS INVÁLIDOS\")\n",
        "            retorne\n",
        "        }\n",
        "        escreva(\"DIGITE O CARACTERE INICIAL DO TIPO DE CONTA \\n\")\n",
        "        leia(tipo)\n",
        "        \n",
        "        se (tipo == 'R'){\n",
        "            conta = 5 + (m3gasto*0.05)\n",
        "        }\n",
        "        senao se (tipo == 'C'){\n",
        "            se (m3gasto > 80){\n",
        "                conta = 500 + ((m3gasto-80)*0.25)\n",
        "            }\n",
        "            senao {\n",
        "                conta = 500\n",
        "            }\n",
        "        }\n",
        "        senao se (tipo == 'I'){\n",
        "            se (m3gasto > 100){\n",
        "                conta = 800 + ((m3gasto-100)*0.04)\n",
        "            }\n",
        "            senao {\n",
        "                conta = 800\n",
        "            }\n",
        "        }\n",
        "        senao {\n",
        "            escreva (\"TIPO DE CONTA INVÁLIDA\")\n",
        "            retorne\n",
        "        }\n",
        "        escreva (\"CONTA = \"+numConta+\"\\nVALOR DA CONTA = \"+conta)\n",
        "    }\n",
        "}"
      ],
      "metadata": {
        "id": "Fcpx-YoIyXiY"
      }
    },
    {
      "cell_type": "markdown",
      "source": [
        "#Questão 6\n",
        "programa\n",
        "{\n",
        "    funcao inicio ()\n",
        "    {\n",
        "        inteiro quantTemp, n=0\n",
        "        real tempF, tempC\n",
        "        escreva(\"Por favor, digite a quantidade de temperaturas a serem calculadas e em seguida as temperaturas em Fahrenheit\\n\")\n",
        "        leia(quantTemp)\n",
        "        \n",
        "        enquanto (n<quantTemp){\n",
        "        leia(tempF)\n",
        "        tempC = (5*(tempF-32))/9\n",
        "        escreva (tempF+\" FAHRENHEIT EQUIVALE A \"+tempC+\" CELSIUS\\n  \")\n",
        "        n = n+1\n",
        "        }\n",
        "        \n",
        "    }\n",
        "}"
      ],
      "metadata": {
        "id": "4s1eCoyjyoyB"
      }
    },
    {
      "cell_type": "markdown",
      "source": [
        "#Quetão 7\n",
        "programa\n",
        "{\n",
        "    funcao inicio ()\n",
        "    {\n",
        "        real tempF, chuvaP, tempC, chuvaM\n",
        "        \n",
        "        escreva (\"Digite a temperatura em Fahrenheit a ser calculada\\n\")\n",
        "        leia(tempF)\n",
        "        escreva (\"Digite agora a quantidade de chuva em polegadas\\n\")\n",
        "        leia(chuvaP)\n",
        "        \n",
        "        tempC = (5*tempF-160)/9\n",
        "        chuvaM = (chuvaP*25.4)\n",
        "        \n",
        "        escreva (\"VALOR EM CELSIUS = \"+tempC+\"\\nA QUANTIDADE DE CHUVA E = \"+chuvaM)\n",
        "    }\n",
        "}"
      ],
      "metadata": {
        "id": "9KFzR2U46FiM"
      }
    },
    {
      "cell_type": "markdown",
      "source": [
        "#Questão 8\n",
        "programa\n",
        "{\n",
        "    inclua biblioteca Matematica --> m\n",
        "    funcao inicio ()\n",
        "    {\n",
        "        real raio, altura, areaTotal, compCir, areaB\n",
        "        \n",
        "        escreva (\"Entre com a medida do raio e da altura da lata, em metros\\n\")\n",
        "        leia(raio)\n",
        "        leia(altura)\n",
        "        \n",
        "        compCir = 2*3.14159*raio\n",
        "        areaB = 3.14159*raio*raio\n",
        "        areaTotal = 2*areaB+(compCir*altura)\n",
        "        areaTotal = m.arredondar(areaTotal, 2)\n",
        "        \n",
        "        escreva (\"O VALOR DO CUSTO É = \"+(areaTotal*100))\n",
        "    }\n",
        "}"
      ],
      "metadata": {
        "id": "bDZ_VkytUzhD"
      }
    },
    {
      "cell_type": "markdown",
      "source": [
        "#Questão 9\n",
        "programa\n",
        "{\n",
        "    funcao inicio ()\n",
        "    {\n",
        "        real a, b, c, resultado\n",
        "        \n",
        "        escreva (\"Digite os coeficientes A, B e C da equação do 2° grau a ser calculada\\n\")\n",
        "        leia(a)\n",
        "        leia(b)\n",
        "        leia(c)\n",
        "        \n",
        "        resultado = (b*b)-(4*a*c)\n",
        "        se (resultado < 0){\n",
        "            escreva (\"NÃO EXISTE NO CONJUNTO DOS REAIS\")\n",
        "            retorne\n",
        "        }\n",
        "        escreva (\"O VALOR DE DELTA E = \"+resultado)\n",
        "    }\n",
        "}"
      ],
      "metadata": {
        "id": "VPS-m4uuC6Q7"
      }
    },
    {
      "cell_type": "markdown",
      "source": [
        "#Questão 10\n",
        "programa\n",
        "{\n",
        "    funcao inicio ()\n",
        "    {\n",
        "        real a, b, c, d, detMatriz\n",
        "        \n",
        "        escreva (\"Digite os quatro elementos a, b, c, d da matriz quadrada bidimensional\\n\")\n",
        "        leia(a)\n",
        "        leia(b)\n",
        "        leia(c)\n",
        "        leia(d)\n",
        "        \n",
        "        detMatriz = a*d-b*c\n",
        "        \n",
        "        escreva (\"O VALOR DO DETERMINANTE E = \"+detMatriz)\n",
        "    }\n",
        "}"
      ],
      "metadata": {
        "id": "t_x3TCveDFUX"
      }
    },
    {
      "cell_type": "markdown",
      "source": [
        "#Questão 11\n",
        "programa\n",
        "{\n",
        "\tinclua biblioteca Tipos --> tp\n",
        "\tfuncao inicio ()\n",
        "\t{\n",
        "\t\treal testediv\n",
        "\t\tcadeia testedivC\n",
        "\t\tinteiro numero\n",
        "\n",
        "\t\tescreva (\"Digite um número e descubra se ele é divisível por 3 e por 5 ao mesmo tempo\\n\")\n",
        "\t\tleia(numero)\n",
        "\n",
        "\t\t//POR 3\n",
        "\t\ttestediv = numero\n",
        "\t\ttestediv = testediv/3\n",
        "\t\ttestedivC = tp.real_para_cadeia(testediv)\n",
        "\n",
        "\t\tse (tp.cadeia_e_real(testedivC)){\n",
        "\t\t\tescreva (\"O NÚMERO NÃO É DIVISÍVEL\")\n",
        "\t\t}\n",
        "\t\tsenao {\n",
        "\t\t//POR 5\n",
        "\t\ttestediv = numero\n",
        "\t\ttestediv = testediv/5\n",
        "\t\ttestedivC = tp.real_para_cadeia(testediv)\n",
        "\n",
        "\t\tse (tp.cadeia_e_real(testedivC)){\n",
        "\t\t\tescreva (\"O NÚMERO NÃO É DIVISÍVEL\")\n",
        "\t\t}\n",
        "\t\tsenao {\n",
        "\t\t\tescreva (\"O NÚMERO É DIVISÍVEL\")\n",
        "\t\t}\n",
        "\n",
        "\t\t}\n",
        "\t}\n",
        "}"
      ],
      "metadata": {
        "id": "ws07-jIODOdw"
      }
    },
    {
      "cell_type": "markdown",
      "source": [
        "#Questão 12\n",
        "programa\n",
        "{\n",
        "\tinclua biblioteca Tipos --> tp\n",
        "\tinclua biblioteca Matematica --> m\n",
        "\tfuncao inicio ()\n",
        "\t{\n",
        "\t\tinteiro horasDivI, horasRes\n",
        "\t\treal horas, horasDiv, valorTotal\n",
        "\t\tescreva (\"Digite por quantas horas você usou a charrete\\n\")\n",
        "\t\tleia(horas)\n",
        "\n",
        "\n",
        "\t\thorasDiv = horas/3\n",
        "\t\thorasDivI = tp.real_para_inteiro(horasDiv)\n",
        "\t\thorasRes = horas-(horasDivI*3)\n",
        "\t\tvalorTotal = (10*horasDivI)+(5*horasRes)\n",
        "\t\tvalorTotal = m.arredondar(valorTotal, 2)\n",
        "\n",
        "\t\tescreva (\"O VALOR A PAGAR É = \"+valorTotal)\n",
        "\t\t}\n",
        "\t}\n",
        "}"
      ],
      "metadata": {
        "id": "MMzbqhLIDXsM"
      }
    },
    {
      "cell_type": "markdown",
      "source": [
        "#Questão 13\n",
        "programa\n",
        "{\n",
        "\tfuncao inicio ()\n",
        "\t{\n",
        "\t\treal nota\n",
        "\t\tcaracter conceito\n",
        "\n",
        "\t\tescreva (\"Digite sua nota\\n\")\n",
        "\t\tleia(nota)\n",
        "\n",
        "\t\tse (nota>=9){\n",
        "\t\t\tconceito = 'A'\n",
        "\t\t}\n",
        "\t\tsenao se (nota >= 7.5){\n",
        "\t\t\tconceito = 'B'\n",
        "\t\t}\n",
        "\t\tsenao se (nota >= 6){\n",
        "\t\t\tconceito = 'C'\n",
        "\t\t}\n",
        "\t\tsenao {\n",
        "\t\t\tconceito = 'D'\n",
        "\t\t}\n",
        "\n",
        "\t\tescreva (\"NOTA = \"+nota+ \" CONCEITO = \"+conceito+\"\\n\")\n",
        "\t}\n",
        "}"
      ],
      "metadata": {
        "id": "XJO029LBDgSb"
      }
    },
    {
      "cell_type": "markdown",
      "source": [
        "#Questão 14\n",
        "programa\n",
        "{\n",
        "\tinclua biblioteca Matematica --> m\n",
        "\tfuncao inicio ()\n",
        "\t{\n",
        "\n",
        "\t\treal altura, aresta, areaB, raiz, areaTotal\n",
        "\n",
        "\t\tescreva (\"Digite a altura da pirâmide e o tamanho da aresta da base, em metros\\n\")\n",
        "\t\tleia(altura)\n",
        "\t\tleia(aresta)\n",
        "\n",
        "\t\tareaB = (3*aresta*aresta*m.raiz(3, 2))/2\n",
        "\t\tareaTotal = (areaB*altura)/3\n",
        "\t\tareaTotal = m.arredondar(areaTotal, 2)\n",
        "\n",
        "\t\tescreva (\"O VOLUME DA PIRAMIDE E \"+areaTotal+\" METROS CÚBICOS\")\n",
        "\t}\n",
        "}"
      ],
      "metadata": {
        "id": "TZtZdkjxDwY6"
      }
    },
    {
      "cell_type": "markdown",
      "source": [
        "#Questão 15\n",
        "programa\n",
        "{\n",
        "\tinclua biblioteca Matematica --> m\n",
        "\tfuncao inicio ()\n",
        "\t{\n",
        "\t\tinteiro numero, contadorQ = 2, numQ = 2, resultado\n",
        "\n",
        "\t\tescreva (\"Digite o número a ser gerado seus quadrados pares\\n\")\n",
        "\t\tleia(numero)\n",
        "\n",
        "\t\tse (numero < 5 ou numero > 2000){\n",
        "\t\t\tescreva (\"Número fora do campo limite\")\n",
        "\t\t}\n",
        "\t\tsenao{\n",
        "\t\t\tenquanto (contadorQ<=numero){\n",
        "\t\t\t\tresultado = Matematica.potencia(contadorQ, numQ)\n",
        "\t\t\t\tescreva (contadorQ+\"^\"+numQ+\" = \"+resultado+\"\\n\")\n",
        "\t\t\t\tcontadorQ = contadorQ+2\n",
        "\n",
        "\t\t\t}\n",
        "\n",
        "\n",
        "\t\t}\n",
        "\t}\n",
        "}"
      ],
      "metadata": {
        "id": "J79uV7heD9QT"
      }
    },
    {
      "cell_type": "markdown",
      "source": [
        "#Questão 16\n",
        "programa\n",
        "{\n",
        "\tfuncao inicio ()\n",
        "\t{\n",
        "\t\treal salario, novoSalario\n",
        "\n",
        "\t\tescreva (\"Digite seu salário para descobrir o valor com reajuste\\n\")\n",
        "\t\tleia(salario)\n",
        "\n",
        "\t\tse (salario>350){\n",
        "\t\t\tnovoSalario = salario*1.3\n",
        "\t\t}\n",
        "\t\tsenao {\n",
        "\t\t\tnovoSalario = salario*1.5\n",
        "\t\t}\n",
        "\n",
        "\t\tescreva (\"SALARIO COM REAJUSTE = \"+novoSalario)\n",
        "\t}\n",
        "}"
      ],
      "metadata": {
        "id": "hVIeaqSQEOCq"
      }
    },
    {
      "cell_type": "markdown",
      "source": [
        "#Questão 17\n",
        "programa\n",
        "{\n",
        "    inclua biblioteca Tipos --> t\n",
        "    inclua biblioteca Matematica --> m\n",
        "    funcao inicio ()\n",
        "    {\n",
        "        real numR, num\n",
        "        inteiro quantN, contador = 0\n",
        "        cadeia numC\n",
        "        \n",
        "        \n",
        "        escreva (\"Digite um número par e a quantidade de pares a serem exibidos\\n\")\n",
        "        leia(num)\n",
        "        \n",
        "        numR = num/2\n",
        "        numC = Tipos.real_para_cadeia(numR)\n",
        "        \n",
        "        se (Tipos.cadeia_e_real(numC)){\n",
        "            escreva (\"O NÚMERO NÃO É PAR\")\n",
        "        }\n",
        "        senao{\n",
        "            leia(quantN)\n",
        "            \n",
        "            enquanto(contador<quantN){\n",
        "                escreva (t.real_para_inteiro(num)+\" \")\n",
        "                num = num+2\n",
        "                contador = contador +1\n",
        "                \n",
        "            }\n",
        "            \n",
        "        }\n",
        "    }\n",
        "}"
      ],
      "metadata": {
        "id": "JYU5TBATEYjc"
      }
    },
    {
      "cell_type": "markdown",
      "source": [
        "#Questão 18\n",
        "programa {\n",
        "  funcao inicio() {\n",
        "    real a, r, n, c, soma, termoPA\n",
        "    escreva (\"Digite o valor inicial da P.A\\n\")\n",
        "    leia(a)\n",
        "    escreva (\"Digite a razão desta P.A\\n\")\n",
        "    leia(r)\n",
        "    escreva (\"Digite o número de elementos desta P.A\\n\")\n",
        "    leia(n)\n",
        "    \n",
        "    termoPA = a\n",
        "    soma = 0\n",
        "    c = 0\n",
        "    enquanto (c < n){\n",
        "      termoPA = a + r*c\n",
        "      soma = termoPA + soma\n",
        "      c = c + 1\n",
        "    }\n",
        "    escreva (soma)\n",
        "  }\n",
        "}"
      ],
      "metadata": {
        "id": "wJCpKy2YEifW"
      }
    },
    {
      "cell_type": "markdown",
      "source": [
        "#Questão 19\n",
        "programa\n",
        "{\n",
        "    inclua biblioteca Matematica --> m\n",
        "    funcao inicio ()\n",
        "    {\n",
        "        inteiro num\n",
        "        real soma = 0, k = 1    \n",
        "        \n",
        "        escreva (\"Digite o numero n, inteiro e positivo, a ser calculado o somatório\\n\")\n",
        "        leia(num)\n",
        "        \n",
        "        se (num < 1.0){\n",
        "            escreva (\"Número inválido\")\n",
        "        }\n",
        "        senao {\n",
        "            enquanto (k <= num){\n",
        "                soma = soma+(1/k)\n",
        "                k = k + 1\n",
        "            }\n",
        "        escreva (m.arredondar(soma, 6))\n",
        "        \n",
        "        \n",
        "        }\n",
        "    }\n",
        "}"
      ],
      "metadata": {
        "id": "V8M_gjyKE1v4"
      }
    },
    {
      "cell_type": "markdown",
      "source": [
        "#Questão 20\n",
        "programa\n",
        "{\n",
        "    funcao inicio ()\n",
        "    {\n",
        "        inteiro horas, minutos, segundos, total\n",
        "        \n",
        "        escreva (\"Digite as horas\\n\")\n",
        "        leia(horas)\n",
        "        escreva (\"Digite os minutos\\n\")\n",
        "        leia(minutos)\n",
        "        escreva (\"Digite os segundos\\n\")\n",
        "        leia(segundos)\n",
        "        \n",
        "        \n",
        "        total = (horas*60*60)+(minutos*60)+segundos\n",
        "        \n",
        "        escreva (\"O TEMPO EM SEGUNDOS É \"+total)\n",
        "    }\n",
        "}"
      ],
      "metadata": {
        "id": "DlEQltijE81-"
      }
    }
  ]
}